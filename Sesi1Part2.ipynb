{
  "nbformat": 4,
  "nbformat_minor": 0,
  "metadata": {
    "colab": {
      "provenance": [],
      "include_colab_link": true
    },
    "kernelspec": {
      "name": "python3",
      "display_name": "Python 3"
    },
    "language_info": {
      "name": "python"
    }
  },
  "cells": [
    {
      "cell_type": "markdown",
      "metadata": {
        "id": "view-in-github",
        "colab_type": "text"
      },
      "source": [
        "<a href=\"https://colab.research.google.com/github/insanudin16/materi-oyusep/blob/main/Sesi1Part2.ipynb\" target=\"_parent\"><img src=\"https://colab.research.google.com/assets/colab-badge.svg\" alt=\"Open In Colab\"/></a>"
      ]
    },
    {
      "cell_type": "markdown",
      "source": [
        "**HELLO WORLD**"
      ],
      "metadata": {
        "id": "XaxYnfPLd_V2"
      }
    },
    {
      "cell_type": "code",
      "execution_count": null,
      "metadata": {
        "id": "ofIwrGvFcSYq"
      },
      "outputs": [],
      "source": [
        "print(\"Hello, World!\")"
      ]
    },
    {
      "cell_type": "markdown",
      "source": [
        "**KOMENTAR**"
      ],
      "metadata": {
        "id": "-EOutfUpeEx_"
      }
    },
    {
      "cell_type": "code",
      "source": [
        "# Ini adalah komentar satu baris\n",
        "print(\"Komentar tidak akan dieksekusi\")"
      ],
      "metadata": {
        "id": "yMTKQ8hzeD5v"
      },
      "execution_count": null,
      "outputs": []
    },
    {
      "cell_type": "markdown",
      "source": [
        "**VARIABEL**"
      ],
      "metadata": {
        "id": "KLRhTSCMeV7O"
      }
    },
    {
      "cell_type": "code",
      "source": [
        "nama = \"Budi\"\n",
        "umur = 25\n",
        "tinggi = 1.75\n",
        "\n",
        "# Menampilkan variabel\n",
        "print(\"Nama:\", nama)\n",
        "print(\"Umur:\", umur)\n",
        "print(\"Tinggi:\", tinggi)\n",
        "print(\"Nama saya\", nama, \"dan umur saya\", umur)"
      ],
      "metadata": {
        "id": "FWQ0TKF4eZO3"
      },
      "execution_count": null,
      "outputs": []
    },
    {
      "cell_type": "markdown",
      "source": [
        "**OPERASI DASAR ARITMATIK**"
      ],
      "metadata": {
        "id": "8f7bGAxvdfRj"
      }
    },
    {
      "cell_type": "code",
      "source": [
        "a = 10\n",
        "b = 5\n",
        "\n",
        "# Penjumlahan\n",
        "print(\"Penjumlahan:\", a + b)  # Output: 15\n",
        "\n",
        "# Pengurangan\n",
        "print(\"Pengurangan:\", a - b)  # Output: 5\n",
        "\n",
        "# Perkalian\n",
        "print(\"Perkalian:\", a * b)  # Output: 50\n",
        "\n",
        "# Pembagian\n",
        "print(\"Pembagian:\", a / b)  # Output: 2.0\n",
        "\n",
        "# Modulus\n",
        "print(\"Modulus:\", a % b)  # Output: 0\n",
        "\n",
        "# Eksponen\n",
        "print(\"Eksponen:\", a ** b)  # Output: 100000\n",
        "\n",
        "# Pembagian Bulat\n",
        "print(\"Pembagian Bulat:\", a // b)  # Output: 2\n"
      ],
      "metadata": {
        "id": "gW2FOrU6disM"
      },
      "execution_count": null,
      "outputs": []
    },
    {
      "cell_type": "markdown",
      "source": [
        "**OPERASI DASAR PERBANDINGAN**"
      ],
      "metadata": {
        "id": "Lq4dyiiaeu7p"
      }
    },
    {
      "cell_type": "code",
      "source": [
        "x = 10\n",
        "y = 5\n",
        "\n",
        "# Sama dengan\n",
        "print(\"Sama dengan:\", x == y)  # Output: False\n",
        "\n",
        "# Tidak sama dengan\n",
        "print(\"Tidak sama dengan:\", x != y)  # Output: True\n",
        "\n",
        "# Lebih besar dari\n",
        "print(\"Lebih besar dari:\", x > y)  # Output: True\n",
        "\n",
        "# Lebih kecil dari\n",
        "print(\"Lebih kecil dari:\", x < y)  # Output: False\n",
        "\n",
        "# Lebih besar atau sama dengan\n",
        "print(\"Lebih besar atau sama dengan:\", x >= y)  # Output: True\n",
        "\n",
        "# Lebih kecil atau sama dengan\n",
        "print(\"Lebih kecil atau sama dengan:\", x <= y)  # Output: False\n"
      ],
      "metadata": {
        "id": "dMxjgJgre16Y"
      },
      "execution_count": null,
      "outputs": []
    },
    {
      "cell_type": "markdown",
      "source": [
        "**OPERASI DASAR LOGIKA**"
      ],
      "metadata": {
        "id": "-vFcHSA4fDeE"
      }
    },
    {
      "cell_type": "code",
      "source": [
        "a = True\n",
        "b = False\n",
        "\n",
        "# Logika AND\n",
        "print(\"Logika AND:\", a and b)  # Output: False\n",
        "\n",
        "# Logika OR\n",
        "print(\"Logika OR:\", a or b)  # Output: True\n",
        "\n",
        "# Logika NOT\n",
        "print(\"Logika NOT:\", not a)  # Output: False\n"
      ],
      "metadata": {
        "id": "eq8NGRvDfGgm"
      },
      "execution_count": null,
      "outputs": []
    },
    {
      "cell_type": "markdown",
      "source": [
        "**LIST**"
      ],
      "metadata": {
        "id": "UiX-vPj_fJbX"
      }
    },
    {
      "cell_type": "code",
      "source": [
        "# Membuat list\n",
        "buah = [\"apel\", \"pisang\", \"ceri\"]\n",
        "print(buah)  # Output: ['apel', 'pisang', 'ceri']\n",
        "\n",
        "# Mengakses elemen\n",
        "print(buah[0])  # Output: apel\n",
        "print(buah[-1])  # Output: ceri\n",
        "\n",
        "# Mengubah elemen\n",
        "buah[1] = \"mangga\"\n",
        "print(buah)  # Output: ['apel', 'mangga', 'ceri']\n",
        "\n",
        "# Menambahkan elemen\n",
        "buah.append(\"jeruk\")\n",
        "print(buah)  # Output: ['apel', 'mangga', 'ceri', 'jeruk']\n",
        "\n",
        "# Menghapus elemen\n",
        "buah.remove(\"mangga\")\n",
        "print(buah)  # Output: ['apel', 'ceri', 'jeruk']\n"
      ],
      "metadata": {
        "id": "3L-AqWgFfoH0"
      },
      "execution_count": null,
      "outputs": []
    },
    {
      "cell_type": "markdown",
      "source": [
        "**TUPLE**"
      ],
      "metadata": {
        "id": "ijsikgsCfvf4"
      }
    },
    {
      "cell_type": "code",
      "source": [
        "# Membuat tuple\n",
        "angka = (1, 2, 3, 4, 5)\n",
        "print(angka)  # Output: (1, 2, 3, 4, 5)\n",
        "\n",
        "# Membuat tuple\n",
        "angka = (1, 2, 3, 4, 5)\n",
        "print(angka)  # Output: (1, 2, 3, 4, 5)\n",
        "\n",
        "\n",
        "# Mengakses elemen\n",
        "print(angka[1])  # Output: 2\n",
        "print(angka[-1])  # Output: 5"
      ],
      "metadata": {
        "id": "YBrUTb54fxKT"
      },
      "execution_count": null,
      "outputs": []
    },
    {
      "cell_type": "markdown",
      "source": [
        "**SET**"
      ],
      "metadata": {
        "id": "7AAhLXPpf6vp"
      }
    },
    {
      "cell_type": "code",
      "source": [
        "# Membuat set\n",
        "hewan = {\"kucing\", \"anjing\", \"kelinci\"}\n",
        "print(hewan)  # Output: {'anjing', 'kelinci', 'kucing'}\n",
        "\n",
        "# Menambahkan elemen\n",
        "hewan.add(\"burung\")\n",
        "print(hewan)  # Output: {'anjing', 'kelinci', 'kucing', 'burung'}\n",
        "\n",
        "# Menghapus elemen\n",
        "hewan.remove(\"anjing\")\n",
        "print(hewan)  # Output: {'kelinci', 'kucing', 'burung'}"
      ],
      "metadata": {
        "id": "WWdsTD6qf8LL"
      },
      "execution_count": null,
      "outputs": []
    },
    {
      "cell_type": "markdown",
      "source": [
        "**DICTIONARY**"
      ],
      "metadata": {
        "id": "Q4fcu9i7gCI9"
      }
    },
    {
      "cell_type": "code",
      "source": [
        "# Membuat dictionary\n",
        "siswa = {\"nama\": \"Budi\", \"umur\": 20, \"jurusan\": \"Informatika\"}\n",
        "print(siswa)  # Output: {'nama': 'Budi', 'umur': 20, 'jurusan': 'Informatika'}\n",
        "\n",
        "# Mengakses nilai\n",
        "print(siswa[\"nama\"])  # Output: Budi\n",
        "print(siswa.get(\"umur\"))  # Output: 20\n",
        "\n",
        "# Menambahkan elemen\n",
        "siswa[\"alamat\"] = \"Jakarta\"\n",
        "print(siswa)  # Output: {'nama': 'Budi', 'umur': 20, 'jurusan': 'Informatika', 'alamat': 'Jakarta'}\n",
        "\n",
        "# Menghapus elemen\n",
        "siswa.pop(\"jurusan\")\n",
        "print(siswa)  # Output: {'nama': 'Budi', 'umur': 20, 'alamat': 'Jakarta'}\n"
      ],
      "metadata": {
        "id": "W4jQqkbRgEGG"
      },
      "execution_count": null,
      "outputs": []
    }
  ]
}